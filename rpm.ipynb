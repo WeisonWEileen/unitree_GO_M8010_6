{
 "cells": [
  {
   "cell_type": "code",
   "execution_count": 2,
   "metadata": {},
   "outputs": [
    {
     "name": "stdout",
     "output_type": "stream",
     "text": [
      "7.743240000000001\n",
      "6.882880000000001\n",
      "6.022520000000001\n",
      "5.162160000000001\n",
      "4.301800000000001\n"
     ]
    }
   ],
   "source": [
    "s = [0,0.1,0.2,0.3,0.4,0.5]\n",
    "r_0 = 0.087\n",
    "h = 0.05\n",
    "r = r_0 + h\n",
    "w = 0.1 \n",
    "# 对应 rw>=v的情况， w_rpm的单位是 rad/s\n",
    "for i in range(1,6):\n",
    "    v = r*w - r*w* s[i]\n",
    "    w_rpm = v*3.14/0.005\n",
    "    print(w_rpm)"
   ]
  }
 ],
 "metadata": {
  "kernelspec": {
   "display_name": "Python 3",
   "language": "python",
   "name": "python3"
  },
  "language_info": {
   "codemirror_mode": {
    "name": "ipython",
    "version": 3
   },
   "file_extension": ".py",
   "mimetype": "text/x-python",
   "name": "python",
   "nbconvert_exporter": "python",
   "pygments_lexer": "ipython3",
   "version": "3.10.12"
  }
 },
 "nbformat": 4,
 "nbformat_minor": 2
}
