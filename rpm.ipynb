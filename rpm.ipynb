{
 "cells": [
  {
   "cell_type": "code",
   "execution_count": 2,
   "metadata": {},
   "outputs": [
    {
     "name": "stdout",
     "output_type": "stream",
     "text": [
      "99.35999999999999\n",
      "88.32\n",
      "77.27999999999999\n",
      "66.24\n",
      "55.2\n"
     ]
    }
   ],
   "source": [
    "s = [0,0.1,0.2,0.3,0.4,0.5]\n",
    "r_0 = 0.087\n",
    "h = 0.005\n",
    "r = r_0 + h/2\n",
    "w = 0.1 \n",
    "# 对应 rw>=v的情况， w_rpm的单位是 rad/s\n",
    "for i in range(0,6):\n",
    "    # 实际需要的上方横杆水平速度,对应的情况是rw<v\n",
    "    v = r*w - r*w* s[i]\n",
    "    # 转化为rpm，每秒前进的距离是\n",
    "    w_rpm = v*60/0.005\n",
    "    print(w_rpm)"
   ]
  }
 ],
 "metadata": {
  "kernelspec": {
   "display_name": "Python 3",
   "language": "python",
   "name": "python3"
  },
  "language_info": {
   "codemirror_mode": {
    "name": "ipython",
    "version": 3
   },
   "file_extension": ".py",
   "mimetype": "text/x-python",
   "name": "python",
   "nbconvert_exporter": "python",
   "pygments_lexer": "ipython3",
   "version": "3.10.12"
  }
 },
 "nbformat": 4,
 "nbformat_minor": 2
}
